{
 "cells": [
  {
   "cell_type": "code",
   "execution_count": null,
   "metadata": {},
   "outputs": [],
   "source": [
    "import os\n",
    "import glob\n",
    "from pathlib import Path\n",
    "import datetime\n",
    "\n",
    "import pandas as pd\n",
    "import matplotlib.pyplot as plt\n"
   ]
  },
  {
   "cell_type": "code",
   "execution_count": null,
   "metadata": {},
   "outputs": [],
   "source": [
    "df = {\"date\": [], \"paper_title\": []}\n",
    "for path in glob.glob(os.path.join(\"..\", \"**/summary.md\"), recursive=True):\n",
    "    path = Path(path)\n",
    "    create_date = datetime.datetime.fromtimestamp(path.stat().st_ctime)    \n",
    "    df[\"paper_title\"].append(path.parent.name)\n",
    "    df[\"date\"].append(create_date)\n",
    "df = pd.DataFrame(df)\n",
    "df.sort_values(\"date\", inplace=True)\n",
    "df.reset_index(drop=True, inplace=True)\n",
    "df.head()\n"
   ]
  },
  {
   "cell_type": "code",
   "execution_count": null,
   "metadata": {},
   "outputs": [],
   "source": []
  },
  {
   "cell_type": "code",
   "execution_count": null,
   "metadata": {},
   "outputs": [],
   "source": [
    "df_week = {\"date\": [], \"num_of_papers\": []}\n",
    "for idx, subdf in df.groupby(pd.Grouper(key='date', freq='W-SUN')):\n",
    "    if len(subdf) > 0:\n",
    "        print(idx - datetime.timedelta(days=7), idx, subdf.iloc[0][\"date\"], subdf.iloc[-1][\"date\"])\n",
    "    else:\n",
    "        print(idx - datetime.timedelta(days=7), idx)\n",
    "    df_week[\"date\"].append(idx)\n",
    "    df_week[\"num_of_papers\"].append(len(subdf))\n",
    "df_week = pd.DataFrame(df_week)\n",
    "df_week.sort_values(\"date\", inplace=True)\n",
    "df_week.reset_index(drop=True, inplace=True)\n",
    "df_week.head()\n"
   ]
  },
  {
   "cell_type": "code",
   "execution_count": null,
   "metadata": {},
   "outputs": [],
   "source": [
    "df_week[\"num_of_papers(cm)\"] = df_week[\"num_of_papers\"].cumsum()\n",
    "df_week[\"paper/day\"] = df_week[\"num_of_papers\"] / 7.\n",
    "df_week[\"paper/day(ma)\"] = df_week[\"paper/day\"].rolling(3, min_periods=1).mean()\n",
    "df_week[\"paper/day(ma)(diff1)\"] = df_week[\"paper/day(ma)\"].diff(1)\n",
    "df_week[\"paper/day(ma)(diff2)\"] = df_week[\"paper/day(ma)(diff1)\"].diff(1)\n",
    "df_week.head()\n"
   ]
  },
  {
   "cell_type": "code",
   "execution_count": null,
   "metadata": {},
   "outputs": [],
   "source": []
  },
  {
   "cell_type": "code",
   "execution_count": null,
   "metadata": {},
   "outputs": [],
   "source": [
    "fig, axs = plt.subplots(figsize=(12, 7))\n",
    "twn = axs.twinx()\n",
    "axs.plot(df_week[\"date\"], df_week[\"num_of_papers(cm)\"], marker=\"o\", color=\"darkred\", label=\"num_of_papers(cm)\")\n",
    "twn.plot(df_week[\"date\"], df_week[\"paper/day\"], marker=\"o\", color=\"black\", label=\"paper/day\")\n",
    "twn.axhline(y=1.0, color=\"black\", linestyle=\"dotted\")\n",
    "twn.axhline(y=0.7, color=\"gray\", linestyle=\"dotted\", alpha=0.5)\n",
    "axs.set_title(\"Comulative sum of num of papers\", fontsize=12*1.5)\n",
    "fig.legend(bbox_to_anchor=(0, -0.01), loc='upper left', borderaxespad=0, fontsize=12, ncol=3)\n",
    "fig.tight_layout()\n",
    "fig.savefig(\"img/Comulative_sum_of_num_of_papers.png\", bbox_inches='tight')\n"
   ]
  },
  {
   "cell_type": "code",
   "execution_count": null,
   "metadata": {},
   "outputs": [],
   "source": [
    "fig, axs = plt.subplots(figsize=(12, 7))\n",
    "axs.plot(df_week[\"date\"], df_week[\"paper/day\"], marker=\"o\", color=\"black\", label=\"paper/day\")\n",
    "axs.plot(df_week[\"date\"], df_week[\"paper/day(ma)\"], marker=\"o\", color=\"gray\", label=\"paper/day(ma)\")\n",
    "axs.axhline(y=1.0, color=\"black\", linestyle=\"dotted\")\n",
    "axs.axhline(y=0.7, color=\"gray\", linestyle=\"dotted\", alpha=0.5)\n",
    "axs.set_title(\"Transition of paper/day\", fontsize=12*1.5)\n",
    "axs.set_ylim([-0.1, 1.25])\n",
    "fig.legend(bbox_to_anchor=(0, -0.01), loc='upper left', borderaxespad=0, fontsize=12, ncol=3)\n",
    "fig.tight_layout()\n",
    "fig.savefig(\"img/Transition_of_paper_day1.png\", bbox_inches='tight')\n"
   ]
  },
  {
   "cell_type": "code",
   "execution_count": null,
   "metadata": {},
   "outputs": [],
   "source": [
    "fig, axs = plt.subplots(figsize=(12, 7))\n",
    "twn = axs.twinx()\n",
    "axs.plot(df_week[\"date\"], df_week[\"paper/day(ma)\"], marker=\"o\", color=\"black\", label=\"paper/day(ma)\")\n",
    "axs.axhline(y=1.0, color=\"black\", linestyle=\"dotted\")\n",
    "axs.axhline(y=0.7, color=\"gray\", linestyle=\"dotted\", alpha=0.5)\n",
    "twn.plot(df_week[\"date\"], df_week[\"paper/day(ma)(diff1)\"], marker=\"o\", color=\"deepskyblue\", alpha=0.75, label=\"paper/day(ma)(diff1)\")\n",
    "twn.plot(df_week[\"date\"], df_week[\"paper/day(ma)(diff2)\"], marker=\"o\", color=\"skyblue\", linestyle=\"dashed\", alpha=0.75, label=\"paper/day(ma)(diff2)\")\n",
    "twn.axhline(y=0.0, color=\"deepskyblue\", linestyle=\"dotted\", alpha=0.5)\n",
    "axs.set_title(\"Transition of paper/day\", fontsize=12*1.5)\n",
    "axs.set_ylim([-0.05, 1.05])\n",
    "twn.set_ylim([-1.05, 1.05])\n",
    "fig.legend(bbox_to_anchor=(0, -0.01), loc='upper left', borderaxespad=0, fontsize=12, ncol=3)\n",
    "fig.tight_layout()\n",
    "fig.savefig(\"img/Transition_of_paper_day2.png\", bbox_inches='tight')\n"
   ]
  },
  {
   "cell_type": "code",
   "execution_count": null,
   "metadata": {},
   "outputs": [],
   "source": []
  },
  {
   "cell_type": "code",
   "execution_count": null,
   "metadata": {},
   "outputs": [],
   "source": [
    "df.to_csv(\"df.csv\", index=False)\n"
   ]
  },
  {
   "cell_type": "code",
   "execution_count": null,
   "metadata": {},
   "outputs": [],
   "source": [
    "df_week.to_csv(\"df_week.csv\", index=False)\n"
   ]
  },
  {
   "cell_type": "code",
   "execution_count": null,
   "metadata": {},
   "outputs": [],
   "source": []
  }
 ],
 "metadata": {
  "interpreter": {
   "hash": "b6af57f8d0c756edc072e5c3fbc27546a2871a3a858be98c6bc53cb4ee75b0b6"
  },
  "kernelspec": {
   "display_name": "Python 3.7.12 64-bit ('3.7.12')",
   "language": "python",
   "name": "python3"
  },
  "language_info": {
   "codemirror_mode": {
    "name": "ipython",
    "version": 3
   },
   "file_extension": ".py",
   "mimetype": "text/x-python",
   "name": "python",
   "nbconvert_exporter": "python",
   "pygments_lexer": "ipython3",
   "version": "3.7.12"
  },
  "orig_nbformat": 4
 },
 "nbformat": 4,
 "nbformat_minor": 2
}
