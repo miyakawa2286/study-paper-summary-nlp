{
 "cells": [
  {
   "cell_type": "code",
   "execution_count": 11,
   "metadata": {},
   "outputs": [],
   "source": [
    "import os\n",
    "import glob"
   ]
  },
  {
   "cell_type": "code",
   "execution_count": 16,
   "metadata": {},
   "outputs": [],
   "source": [
    "words_unknown = []\n",
    "for path in glob.glob(os.path.join(\"..\", \"**/summary.md\"), recursive=True):\n",
    "    with open(path, \"r\") as f:\n",
    "        text = f.read()\n",
    "    paragraphs = text.split(\"##\")\n",
    "    for paragraph in paragraphs:\n",
    "        if paragraph.startswith(\" 不明な単語\"):\n",
    "            words = paragraph.split(\"\\n\")[1:]\n",
    "            words = [word for word in words if not word.startswith(\"- none\")]\n",
    "            words = [word + \" > \" + path.split(\"/\")[-2].replace(\"\\n\", \"\") for word in words if word.startswith(\"-\")]\n",
    "            words_unknown += words\n",
    "\n",
    "words_unknown = sorted(list(set(words_unknown)))\n"
   ]
  },
  {
   "cell_type": "code",
   "execution_count": 17,
   "metadata": {},
   "outputs": [],
   "source": [
    "with open(\"unknown_words.txt\", \"w\") as f:\n",
    "    for word in words_unknown:\n",
    "        f.write(word[2:] + \"\\n\")\n"
   ]
  },
  {
   "cell_type": "code",
   "execution_count": null,
   "metadata": {},
   "outputs": [],
   "source": []
  }
 ],
 "metadata": {
  "interpreter": {
   "hash": "b6af57f8d0c756edc072e5c3fbc27546a2871a3a858be98c6bc53cb4ee75b0b6"
  },
  "kernelspec": {
   "display_name": "Python 3.7.12 64-bit ('3.7.12')",
   "language": "python",
   "name": "python3"
  },
  "language_info": {
   "codemirror_mode": {
    "name": "ipython",
    "version": 3
   },
   "file_extension": ".py",
   "mimetype": "text/x-python",
   "name": "python",
   "nbconvert_exporter": "python",
   "pygments_lexer": "ipython3",
   "version": "3.7.12"
  },
  "orig_nbformat": 4
 },
 "nbformat": 4,
 "nbformat_minor": 2
}
